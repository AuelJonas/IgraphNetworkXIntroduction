{
 "cells": [
  {
   "cell_type": "code",
   "execution_count": null,
   "metadata": {
    "collapsed": false,
    "slideshow": {
     "slide_type": "-"
    }
   },
   "outputs": [],
   "source": [
    "import networkx as nx\n",
    "import matplotlib.pyplot as plt\n",
    "import random\n",
    "import pandas as pd"
   ]
  },
  {
   "cell_type": "markdown",
   "metadata": {
    "slideshow": {
     "slide_type": "-"
    }
   },
   "source": [
    "# creating Graphs using NetworkX:"
   ]
  },
  {
   "cell_type": "code",
   "execution_count": null,
   "metadata": {
    "collapsed": false,
    "scrolled": true
   },
   "outputs": [],
   "source": [
    "# Undirected Graph:\n",
    "G = nx.Graph()\n",
    "# create nodes:\n",
    "List_of_nodes = [1, 2, 3, 5, \"Jonas\", \"Sven\"]\n",
    "###\n",
    "###\n",
    "###"
   ]
  },
  {
   "cell_type": "code",
   "execution_count": null,
   "metadata": {
    "collapsed": false
   },
   "outputs": [],
   "source": [
    "# create edges:\n",
    "List_of_edges = [(1,2), (2,\"Jonas\"), (1,3), (3,5), (2,3), (\"Sven\",1), (\"Sven\",2), (\"Sven\",3), (\"Sven\",5)]\n",
    "G.add_edges_from(List_of_edges)\n",
    "nx.draw_networkx(G)\n",
    "plt.show()"
   ]
  },
  {
   "cell_type": "code",
   "execution_count": null,
   "metadata": {
    "collapsed": false
   },
   "outputs": [],
   "source": [
    "# remove nodes:\n",
    "###\n",
    "nx.draw_networkx(G)\n",
    "plt.show()"
   ]
  },
  {
   "cell_type": "code",
   "execution_count": null,
   "metadata": {
    "collapsed": false,
    "scrolled": true
   },
   "outputs": [],
   "source": [
    "# create random graph:\n",
    "H = nx.Graph()\n",
    "# Graph can be created by only adding edges:\n",
    "for i in range(0, 10):\n",
    "    H.add_edge(random.randrange(0,10,1), random.randrange(0,10,1))\n",
    "nx.draw_networkx(H)\n",
    "plt.show()\n",
    "print(H.nodes())\n",
    "###"
   ]
  },
  {
   "cell_type": "code",
   "execution_count": null,
   "metadata": {
    "collapsed": false
   },
   "outputs": [],
   "source": [
    "# Directed Graph:\n",
    "I = nx.DiGraph()\n",
    "List_of_edges = [(\"Max\",\"Peter\"), (\"Peter\",\"Jonas\"), (\"Max\",\"Till\"), (\"Till\",\"Luisa\"), (\"Jonas\",\"Luisa\"), \n",
    "                 (\"Peter\",\"Till\"), (\"Sara\",\"Max\"), (\"Sara\",\"Peter\"), (\"Sara\",\"Till\"), (\"Sara\",\"Luisa\")]\n",
    "I.add_edges_from(List_of_edges)\n",
    "nx.draw_networkx(I)\n",
    "plt.title(\"distribution of exercise solutions through students\")\n",
    "plt.show()"
   ]
  },
  {
   "cell_type": "code",
   "execution_count": null,
   "metadata": {
    "collapsed": false
   },
   "outputs": [],
   "source": [
    "# Multigraph:\n",
    "J = nx.MultiDiGraph()\n",
    "###\n",
    "###\n",
    "###\n",
    "nx.draw_networkx(J)\n",
    "plt.title(\"distribution of exercise solutions through students\")\n",
    "plt.show()\n",
    "print(J.edges())\n",
    "print(I.edges())"
   ]
  },
  {
   "cell_type": "markdown",
   "metadata": {},
   "source": [
    "# analyzing Networks using NetworkX:"
   ]
  },
  {
   "cell_type": "code",
   "execution_count": null,
   "metadata": {
    "collapsed": false
   },
   "outputs": [],
   "source": [
    "###\n",
    "nx.draw_networkx(I)\n",
    "plt.title(\"example social network\")\n",
    "plt.show()\n",
    "# analyze graph I\n",
    "print(\"number of nodes in I: %d\" % I.number_of_nodes())\n",
    "print(\"number of edges in I: %d\" % I.number_of_edges())\n",
    "print(\"Sara is friends with:\") \n",
    "print(I.neighbors(\"Sara\"))\n",
    "print(\"degree of nodes in I:\")\n",
    "print(I.degree())\n",
    "print(\"Is I connected? %s\" % nx.is_connected(I))\n",
    "print(\"Is I directed? %s\" % nx.is_directed(I))"
   ]
  },
  {
   "cell_type": "code",
   "execution_count": null,
   "metadata": {
    "collapsed": false
   },
   "outputs": [],
   "source": [
    "# adajacency list of I:\n",
    "###\n",
    "###"
   ]
  },
  {
   "cell_type": "markdown",
   "metadata": {},
   "source": [
    "# Network algorithm on example data:"
   ]
  },
  {
   "cell_type": "code",
   "execution_count": null,
   "metadata": {
    "collapsed": false
   },
   "outputs": [],
   "source": [
    "# metrics on example social network:\n",
    "###\n",
    "###\n",
    "###\n",
    "d = {\"Betweenness\": b, \"Degree\": d, \"Closeness\": c}\n",
    "nx.draw_networkx(I)\n",
    "plt.title(\"example social network\")\n",
    "plt.show()\n",
    "pd.DataFrame(d)"
   ]
  },
  {
   "cell_type": "markdown",
   "metadata": {},
   "source": [
    "# an undirected social network of frequent associations between 62 dolphins in a community living off Doubtful Sound, New Zealand"
   ]
  },
  {
   "cell_type": "code",
   "execution_count": null,
   "metadata": {
    "collapsed": false
   },
   "outputs": [],
   "source": [
    "###\n",
    "# example data:\n",
    "# D. Lusseau, K. Schneider, O. J. Boisseau, P. Haase, E. Slooten, and S. M. Dawson, \n",
    "# Behavioral Ecology and Sociobiology 54, 396-405 (2003)\n",
    "###\n",
    "K = nx.read_gml(\"dolphins.gml\", relabel = True)\n",
    "b = nx.betweenness_centrality(K)\n",
    "c = nx.closeness_centrality(K)\n",
    "d = nx.degree_centrality(K)\n",
    "dic = {\"Betweenness\": b, \"Degree\": d, \"Closeness\": c}\n",
    "data = pd.DataFrame(dic)\n",
    "# determine top 10 dolphins for each measure:\n",
    "betweenness_top = data.sort_index(by = \"Betweenness\", ascending = False)[0:10].index\n",
    "closeness_top = data.sort_index(by = \"Closeness\", ascending = False)[0:10].index\n",
    "degree_top = data.sort_index(by = \"Degree\", ascending = False)[0:10].index\n",
    "dic_top = {\"Betweenness top\": betweenness_top, \"Closeness top\": closeness_top, \"Degree top\": degree_top}\n",
    "\n",
    "nx.draw_networkx(K)\n",
    "plt.title(\"Social network of dolphins\")\n",
    "plt.show()\n",
    "pd.DataFrame(dic_top, index = range(1,11))"
   ]
  }
 ],
 "metadata": {
  "anaconda-cloud": {},
  "kernelspec": {
   "display_name": "Python [default]",
   "language": "python",
   "name": "python2"
  },
  "language_info": {
   "codemirror_mode": {
    "name": "ipython",
    "version": 2
   },
   "file_extension": ".py",
   "mimetype": "text/x-python",
   "name": "python",
   "nbconvert_exporter": "python",
   "pygments_lexer": "ipython2",
   "version": "2.7.12"
  }
 },
 "nbformat": 4,
 "nbformat_minor": 1
}
