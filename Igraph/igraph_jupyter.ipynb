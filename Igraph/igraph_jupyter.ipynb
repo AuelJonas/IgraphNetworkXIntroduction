{
 "cells": [
  {
   "cell_type": "markdown",
   "metadata": {},
   "source": [
    "# Igraph introduction"
   ]
  },
  {
   "cell_type": "code",
   "execution_count": null,
   "metadata": {
    "collapsed": false,
    "slideshow": {
     "slide_type": "slide"
    }
   },
   "outputs": [],
   "source": [
    "# importing packages\n",
    "import igraph as ig\n",
    "import numpy as np\n",
    "import pandas as pd\n",
    "import matplotlib.pyplot as plt\n",
    "\n",
    "# initilize an undirected graph\n",
    "g = ig.Graph()\n",
    "\n",
    "# adding 3 vertices\n",
    "g.add_vertices(3)\n",
    "ig.plot(g, bbox = (100, 100))"
   ]
  },
  {
   "cell_type": "code",
   "execution_count": null,
   "metadata": {
    "collapsed": false,
    "slideshow": {
     "slide_type": "slide"
    }
   },
   "outputs": [],
   "source": [
    "# add an edge from 0 to 1 and from 1 to 2\n",
    "g.add_edges([(0,1), (1,2)])\n",
    "ig.plot(g, bbox = (100, 100))"
   ]
  },
  {
   "cell_type": "code",
   "execution_count": null,
   "metadata": {
    "collapsed": false,
    "slideshow": {
     "slide_type": "slide"
    }
   },
   "outputs": [],
   "source": [
    "# delete the 2nd vertex\n",
    "g.delete_vertices(1)\n",
    "ig.plot(g, bbox = (100, 100))"
   ]
  },
  {
   "cell_type": "code",
   "execution_count": null,
   "metadata": {
    "collapsed": false,
    "slideshow": {
     "slide_type": "slide"
    }
   },
   "outputs": [],
   "source": [
    "# initializing a directed graph\n",
    "g = ig.Graph(directed = True)\n",
    "\n",
    "# add vertices and edges\n",
    "g.add_vertices(3)\n",
    "g.add_edges([(0, 1), (1, 2)])\n",
    "ig.plot(g, bbox = (300, 100))"
   ]
  },
  {
   "cell_type": "code",
   "execution_count": null,
   "metadata": {
    "collapsed": false
   },
   "outputs": [],
   "source": [
    "# creating tree\n",
    "g = ig.Graph.Tree(6,3)\n",
    "ig.plot(g, bbox = (300,300))"
   ]
  },
  {
   "cell_type": "code",
   "execution_count": null,
   "metadata": {
    "collapsed": false
   },
   "outputs": [],
   "source": [
    "# creating full graph\n",
    "g = ig.Graph.Full(4)\n",
    "ig.plot(g, bbox = (200,200))"
   ]
  },
  {
   "cell_type": "code",
   "execution_count": null,
   "metadata": {
    "collapsed": false
   },
   "outputs": [],
   "source": [
    "g = ig.Graph( [(0,1), (0,2), (0,3),(1,2),(1,4),(2,5),(2,4),(3,5),(4,6),(5,6)])\n",
    "# name the vertices\n",
    "g.vs[\"name\"] = [\"MA\", \"HD\", \"SP\", \"KA\", \"S\", \"F\", \"M\"]\n",
    "# name the vertice labels as the names\n",
    "g.vs[\"label\"] = g.vs[\"name\"]\n",
    "ig.plot(g,layout = g.layout(\"sugiyama\"), inline = False)"
   ]
  },
  {
   "cell_type": "code",
   "execution_count": null,
   "metadata": {
    "collapsed": false
   },
   "outputs": [],
   "source": [
    "ig.summary(g)"
   ]
  },
  {
   "cell_type": "code",
   "execution_count": null,
   "metadata": {
    "collapsed": false
   },
   "outputs": [],
   "source": [
    "print g"
   ]
  },
  {
   "cell_type": "code",
   "execution_count": null,
   "metadata": {
    "collapsed": false
   },
   "outputs": [],
   "source": [
    "# set weight true\n",
    "g.es[\"weight\"] = 1.0\n",
    "# add weights to graph\n",
    "g.es[\"weight\"] = [5, 6, 6, 4, 7, 5, 4, 5, 7]\n",
    "ig.plot(g,layout = g.layout(\"sugiyama\"), edge_width = g.es[\"weight\"], inline = False)"
   ]
  },
  {
   "cell_type": "code",
   "execution_count": null,
   "metadata": {
    "collapsed": false
   },
   "outputs": [],
   "source": [
    "ig.summary(g)"
   ]
  },
  {
   "cell_type": "markdown",
   "metadata": {},
   "source": [
    "# Example of hub and auth. score on a citation network"
   ]
  },
  {
   "cell_type": "code",
   "execution_count": null,
   "metadata": {
    "collapsed": false
   },
   "outputs": [],
   "source": [
    "# importing the Data Set\n",
    "g = ig.Graph.Read_GML(\"polblogs.gml\")\n",
    "ig.summary(g)"
   ]
  },
  {
   "cell_type": "code",
   "execution_count": null,
   "metadata": {
    "collapsed": false
   },
   "outputs": [],
   "source": [
    "# calculating the hub score and selecting the top n pages\n",
    "n = 10\n",
    "hubscore = np.asarray(g.hub_score())\n",
    "hubtop = np.argsort(hubscore)[::-1]\n",
    "d = {\"hub score top\":hubscore[hubtop[:n]]}\n",
    "labels = np.asarray(g.vs[\"label\"])\n",
    "pd.DataFrame(d, index=labels[hubtop[:n]])"
   ]
  },
  {
   "cell_type": "code",
   "execution_count": null,
   "metadata": {
    "collapsed": false
   },
   "outputs": [],
   "source": [
    "# calculating the hub score step by step\n",
    "A = np.matrix(g.get_adjacency().data)\n",
    "AAt = A * A.transpose() \n",
    "w, v = np.linalg.eig(AAt)\n",
    "maxeigen =  np.argmax(w)\n",
    "maxv =  max(v[:,maxeigen])\n",
    "hubscore = np.multiply((1/maxv), v[:,maxeigen])\n",
    "hubscore = hubscore.A1\n",
    "\n",
    "hubtop = np.argsort(hubscore)[::-1]\n",
    "d = {\"hub score top\":hubscore[hubtop[:n]]}\n",
    "labels = np.asarray(g.vs[\"label\"])\n",
    "pd.DataFrame(d, index=labels[hubtop[:n]])"
   ]
  },
  {
   "cell_type": "code",
   "execution_count": null,
   "metadata": {
    "collapsed": false
   },
   "outputs": [],
   "source": [
    "# calculating the auth. score and slecting the top n pages\n",
    "authscore = np.asarray(g.authority_score())\n",
    "authtop = np.argsort(authscore)[::-1]\n",
    "d = {\"auth. score top\": authscore[authtop[:n]]}\n",
    "pd.DataFrame(d, index=labels[authtop[:n]])"
   ]
  },
  {
   "cell_type": "code",
   "execution_count": null,
   "metadata": {
    "collapsed": false
   },
   "outputs": [],
   "source": [
    "# top 10 auth. and hub scores\n",
    "d = {\"auth. top\": labels[authtop[:n]], \"hub top\": labels[hubtop[:n]]}\n",
    "pd.DataFrame(d)"
   ]
  },
  {
   "cell_type": "code",
   "execution_count": null,
   "metadata": {
    "collapsed": false
   },
   "outputs": [],
   "source": [
    "# calculating how many blogs are in the top k hub and auth.\n",
    "k = [10, 20, 40, 80, 160, 320, 640, 1280]\n",
    "same = np.zeros(np.size(k))\n",
    "counter = 0\n",
    "for n in k:\n",
    "    same[counter] = 0\n",
    "    for i in range(0,n):\n",
    "        for j in range(0,n):\n",
    "            if labels[authtop[i]] == labels[hubtop[j]]:\n",
    "                same[counter] += 1\n",
    "    counter += 1\n",
    "plt.plot(k,same/k * 100,'blue')\n",
    "plt.plot(k,same/k * 100,'ro')\n",
    "plt.show()"
   ]
  }
 ],
 "metadata": {
  "anaconda-cloud": {},
  "kernelspec": {
   "display_name": "Python [conda root]",
   "language": "python",
   "name": "conda-root-py"
  },
  "language_info": {
   "codemirror_mode": {
    "name": "ipython",
    "version": 2
   },
   "file_extension": ".py",
   "mimetype": "text/x-python",
   "name": "python",
   "nbconvert_exporter": "python",
   "pygments_lexer": "ipython2",
   "version": "2.7.12"
  }
 },
 "nbformat": 4,
 "nbformat_minor": 1
}
