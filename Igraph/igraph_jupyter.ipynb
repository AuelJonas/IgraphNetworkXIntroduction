{
 "cells": [
  {
   "cell_type": "markdown",
   "metadata": {},
   "source": [
    "# Igraph introduction"
   ]
  },
  {
   "cell_type": "code",
   "execution_count": 1,
   "metadata": {
    "collapsed": false,
    "slideshow": {
     "slide_type": "slide"
    }
   },
   "outputs": [
    {
     "data": {
      "image/svg+xml": [
       "<?xml version=\"1.0\" encoding=\"UTF-8\"?>\n",
       "<svg xmlns=\"http://www.w3.org/2000/svg\" xmlns:xlink=\"http://www.w3.org/1999/xlink\" width=\"100pt\" height=\"100pt\" viewBox=\"0 0 100 100\" version=\"1.1\">\n",
       "<g id=\"surface2\">\n",
       "<rect x=\"0\" y=\"0\" width=\"100\" height=\"100\" style=\"fill:rgb(100%,100%,100%);fill-opacity:1;stroke:none;\"/>\n",
       "<path style=\"fill-rule:nonzero;fill:rgb(100%,0%,0%);fill-opacity:1;stroke-width:1;stroke-linecap:butt;stroke-linejoin:miter;stroke:rgb(0%,0%,0%);stroke-opacity:1;stroke-miterlimit:10;\" d=\"M 64.988281 20 C 64.988281 25.523438 60.511719 30 54.988281 30 C 49.464844 30 44.988281 25.523438 44.988281 20 C 44.988281 14.476562 49.464844 10 54.988281 10 C 60.511719 10 64.988281 14.476562 64.988281 20 \"/>\n",
       "<path style=\"fill-rule:nonzero;fill:rgb(100%,0%,0%);fill-opacity:1;stroke-width:1;stroke-linecap:butt;stroke-linejoin:miter;stroke:rgb(0%,0%,0%);stroke-opacity:1;stroke-miterlimit:10;\" d=\"M 30 73.699219 C 30 79.222656 25.523438 83.699219 20 83.699219 C 14.476562 83.699219 10 79.222656 10 73.699219 C 10 68.175781 14.476562 63.699219 20 63.699219 C 25.523438 63.699219 30 68.175781 30 73.699219 \"/>\n",
       "<path style=\"fill-rule:nonzero;fill:rgb(100%,0%,0%);fill-opacity:1;stroke-width:1;stroke-linecap:butt;stroke-linejoin:miter;stroke:rgb(0%,0%,0%);stroke-opacity:1;stroke-miterlimit:10;\" d=\"M 90 80 C 90 85.523438 85.523438 90 80 90 C 74.476562 90 70 85.523438 70 80 C 70 74.476562 74.476562 70 80 70 C 85.523438 70 90 74.476562 90 80 \"/>\n",
       "</g>\n",
       "</svg>\n"
      ],
      "text/plain": [
       "<igraph.drawing.Plot at 0xaa3850cc>"
      ]
     },
     "execution_count": 1,
     "metadata": {},
     "output_type": "execute_result"
    }
   ],
   "source": [
    "# importing packages\n",
    "import igraph as ig\n",
    "import numpy as np\n",
    "import pandas as pd\n",
    "import matplotlib.pyplot as plt\n",
    "\n",
    "# initilize an undirected empty graph\n",
    "g = ig.Graph()\n",
    "\n",
    "# adding 3 vertices\n",
    "g.add_vertices(3)\n",
    "ig.plot(g, bbox = (100,100))"
   ]
  },
  {
   "cell_type": "code",
   "execution_count": 2,
   "metadata": {
    "collapsed": false,
    "slideshow": {
     "slide_type": "slide"
    }
   },
   "outputs": [
    {
     "data": {
      "image/svg+xml": [
       "<?xml version=\"1.0\" encoding=\"UTF-8\"?>\n",
       "<svg xmlns=\"http://www.w3.org/2000/svg\" xmlns:xlink=\"http://www.w3.org/1999/xlink\" width=\"100pt\" height=\"100pt\" viewBox=\"0 0 100 100\" version=\"1.1\">\n",
       "<g id=\"surface8\">\n",
       "<rect x=\"0\" y=\"0\" width=\"100\" height=\"100\" style=\"fill:rgb(100%,100%,100%);fill-opacity:1;stroke:none;\"/>\n",
       "<path style=\"fill:none;stroke-width:1;stroke-linecap:butt;stroke-linejoin:miter;stroke:rgb(26.666667%,26.666667%,26.666667%);stroke-opacity:1;stroke-miterlimit:10;\" d=\"M 80 20 L 55.835938 80 \"/>\n",
       "<path style=\"fill:none;stroke-width:1;stroke-linecap:butt;stroke-linejoin:miter;stroke:rgb(26.666667%,26.666667%,26.666667%);stroke-opacity:1;stroke-miterlimit:10;\" d=\"M 55.835938 80 L 20 65.097656 \"/>\n",
       "<path style=\"fill-rule:nonzero;fill:rgb(100%,0%,0%);fill-opacity:1;stroke-width:1;stroke-linecap:butt;stroke-linejoin:miter;stroke:rgb(0%,0%,0%);stroke-opacity:1;stroke-miterlimit:10;\" d=\"M 90 20 C 90 25.523438 85.523438 30 80 30 C 74.476562 30 70 25.523438 70 20 C 70 14.476562 74.476562 10 80 10 C 85.523438 10 90 14.476562 90 20 \"/>\n",
       "<path style=\"fill-rule:nonzero;fill:rgb(100%,0%,0%);fill-opacity:1;stroke-width:1;stroke-linecap:butt;stroke-linejoin:miter;stroke:rgb(0%,0%,0%);stroke-opacity:1;stroke-miterlimit:10;\" d=\"M 65.835938 80 C 65.835938 85.523438 61.359375 90 55.835938 90 C 50.316406 90 45.835938 85.523438 45.835938 80 C 45.835938 74.476562 50.316406 70 55.835938 70 C 61.359375 70 65.835938 74.476562 65.835938 80 \"/>\n",
       "<path style=\"fill-rule:nonzero;fill:rgb(100%,0%,0%);fill-opacity:1;stroke-width:1;stroke-linecap:butt;stroke-linejoin:miter;stroke:rgb(0%,0%,0%);stroke-opacity:1;stroke-miterlimit:10;\" d=\"M 30 65.097656 C 30 70.621094 25.523438 75.097656 20 75.097656 C 14.476562 75.097656 10 70.621094 10 65.097656 C 10 59.574219 14.476562 55.097656 20 55.097656 C 25.523438 55.097656 30 59.574219 30 65.097656 \"/>\n",
       "</g>\n",
       "</svg>\n"
      ],
      "text/plain": [
       "<igraph.drawing.Plot at 0xb41afc8c>"
      ]
     },
     "execution_count": 2,
     "metadata": {},
     "output_type": "execute_result"
    }
   ],
   "source": [
    "# add an edge from 0 to 1 and from 1 to 2\n",
    "g.add_edges([(0,1), (1,2)])\n",
    "ig.plot(g, bbox = (100, 100))"
   ]
  },
  {
   "cell_type": "code",
   "execution_count": 4,
   "metadata": {
    "collapsed": false,
    "slideshow": {
     "slide_type": "slide"
    }
   },
   "outputs": [
    {
     "data": {
      "image/svg+xml": [
       "<?xml version=\"1.0\" encoding=\"UTF-8\"?>\n",
       "<svg xmlns=\"http://www.w3.org/2000/svg\" xmlns:xlink=\"http://www.w3.org/1999/xlink\" width=\"100pt\" height=\"100pt\" viewBox=\"0 0 100 100\" version=\"1.1\">\n",
       "<g id=\"surface14\">\n",
       "<rect x=\"0\" y=\"0\" width=\"100\" height=\"100\" style=\"fill:rgb(100%,100%,100%);fill-opacity:1;stroke:none;\"/>\n",
       "<path style=\"fill:none;stroke-width:1;stroke-linecap:butt;stroke-linejoin:miter;stroke:rgb(26.666667%,26.666667%,26.666667%);stroke-opacity:1;stroke-miterlimit:10;\" d=\"M 20 20 L 80 80 \"/>\n",
       "<path style=\"fill-rule:nonzero;fill:rgb(100%,0%,0%);fill-opacity:1;stroke-width:1;stroke-linecap:butt;stroke-linejoin:miter;stroke:rgb(0%,0%,0%);stroke-opacity:1;stroke-miterlimit:10;\" d=\"M 30 20 C 30 25.523438 25.523438 30 20 30 C 14.476562 30 10 25.523438 10 20 C 10 14.476562 14.476562 10 20 10 C 25.523438 10 30 14.476562 30 20 \"/>\n",
       "<path style=\"fill-rule:nonzero;fill:rgb(100%,0%,0%);fill-opacity:1;stroke-width:1;stroke-linecap:butt;stroke-linejoin:miter;stroke:rgb(0%,0%,0%);stroke-opacity:1;stroke-miterlimit:10;\" d=\"M 90 80 C 90 85.523438 85.523438 90 80 90 C 74.476562 90 70 85.523438 70 80 C 70 74.476562 74.476562 70 80 70 C 85.523438 70 90 74.476562 90 80 \"/>\n",
       "</g>\n",
       "</svg>\n"
      ],
      "text/plain": [
       "<igraph.drawing.Plot at 0xaa391d8c>"
      ]
     },
     "execution_count": 4,
     "metadata": {},
     "output_type": "execute_result"
    }
   ],
   "source": [
    "# delete the 2nd vertex\n",
    "g.delete_vertices(2)\n",
    "ig.plot(g, bbox = (100, 100))"
   ]
  },
  {
   "cell_type": "code",
   "execution_count": 5,
   "metadata": {
    "collapsed": false,
    "slideshow": {
     "slide_type": "slide"
    }
   },
   "outputs": [
    {
     "data": {
      "image/svg+xml": [
       "<?xml version=\"1.0\" encoding=\"UTF-8\"?>\n",
       "<svg xmlns=\"http://www.w3.org/2000/svg\" xmlns:xlink=\"http://www.w3.org/1999/xlink\" width=\"300pt\" height=\"100pt\" viewBox=\"0 0 300 100\" version=\"1.1\">\n",
       "<g id=\"surface20\">\n",
       "<rect x=\"0\" y=\"0\" width=\"300\" height=\"100\" style=\"fill:rgb(100%,100%,100%);fill-opacity:1;stroke:none;\"/>\n",
       "<path style=\"fill:none;stroke-width:1;stroke-linecap:butt;stroke-linejoin:miter;stroke:rgb(26.666667%,26.666667%,26.666667%);stroke-opacity:1;stroke-miterlimit:10;\" d=\"M 215.921875 20 L 258.476562 42.164062 \"/>\n",
       "<path style=\" stroke:none;fill-rule:nonzero;fill:rgb(26.666667%,26.666667%,26.666667%);fill-opacity:1;\" d=\"M 271.132812 48.757812 L 256.335938 46.277344 L 260.621094 38.054688 L 271.132812 48.757812 \"/>\n",
       "<path style=\"fill:none;stroke-width:1;stroke-linecap:butt;stroke-linejoin:miter;stroke:rgb(26.666667%,26.666667%,26.666667%);stroke-opacity:1;stroke-miterlimit:10;\" d=\"M 280 53.375 L 44.140625 77.527344 \"/>\n",
       "<path style=\" stroke:none;fill-rule:nonzero;fill:rgb(26.666667%,26.666667%,26.666667%);fill-opacity:1;\" d=\"M 29.949219 78.980469 L 43.667969 72.917969 L 44.613281 82.140625 L 29.949219 78.980469 \"/>\n",
       "<path style=\"fill-rule:nonzero;fill:rgb(100%,0%,0%);fill-opacity:1;stroke-width:1;stroke-linecap:butt;stroke-linejoin:miter;stroke:rgb(0%,0%,0%);stroke-opacity:1;stroke-miterlimit:10;\" d=\"M 225.921875 20 C 225.921875 25.523438 221.445312 30 215.921875 30 C 210.398438 30 205.921875 25.523438 205.921875 20 C 205.921875 14.476562 210.398438 10 215.921875 10 C 221.445312 10 225.921875 14.476562 225.921875 20 \"/>\n",
       "<path style=\"fill-rule:nonzero;fill:rgb(100%,0%,0%);fill-opacity:1;stroke-width:1;stroke-linecap:butt;stroke-linejoin:miter;stroke:rgb(0%,0%,0%);stroke-opacity:1;stroke-miterlimit:10;\" d=\"M 290 53.375 C 290 58.898438 285.523438 63.375 280 63.375 C 274.476562 63.375 270 58.898438 270 53.375 C 270 47.851562 274.476562 43.375 280 43.375 C 285.523438 43.375 290 47.851562 290 53.375 \"/>\n",
       "<path style=\"fill-rule:nonzero;fill:rgb(100%,0%,0%);fill-opacity:1;stroke-width:1;stroke-linecap:butt;stroke-linejoin:miter;stroke:rgb(0%,0%,0%);stroke-opacity:1;stroke-miterlimit:10;\" d=\"M 30 80 C 30 85.523438 25.523438 90 20 90 C 14.476562 90 10 85.523438 10 80 C 10 74.476562 14.476562 70 20 70 C 25.523438 70 30 74.476562 30 80 \"/>\n",
       "</g>\n",
       "</svg>\n"
      ],
      "text/plain": [
       "<igraph.drawing.Plot at 0xaa3924cc>"
      ]
     },
     "execution_count": 5,
     "metadata": {},
     "output_type": "execute_result"
    }
   ],
   "source": [
    "# initializing a directed graph\n",
    "g = ig.Graph(directed = True)\n",
    "\n",
    "# add vertices and edges\n",
    "g.add_vertices(3)\n",
    "g.add_edges([(0, 1), (1, 2)])\n",
    "ig.plot(g, bbox = (300, 100))"
   ]
  },
  {
   "cell_type": "code",
   "execution_count": 6,
   "metadata": {
    "collapsed": false
   },
   "outputs": [
    {
     "data": {
      "image/svg+xml": [
       "<?xml version=\"1.0\" encoding=\"UTF-8\"?>\n",
       "<svg xmlns=\"http://www.w3.org/2000/svg\" xmlns:xlink=\"http://www.w3.org/1999/xlink\" width=\"300pt\" height=\"300pt\" viewBox=\"0 0 300 300\" version=\"1.1\">\n",
       "<g id=\"surface26\">\n",
       "<rect x=\"0\" y=\"0\" width=\"300\" height=\"300\" style=\"fill:rgb(100%,100%,100%);fill-opacity:1;stroke:none;\"/>\n",
       "<path style=\"fill:none;stroke-width:1;stroke-linecap:butt;stroke-linejoin:miter;stroke:rgb(26.666667%,26.666667%,26.666667%);stroke-opacity:1;stroke-miterlimit:10;\" d=\"M 154.246094 94.296875 L 152.859375 208.257812 \"/>\n",
       "<path style=\"fill:none;stroke-width:1;stroke-linecap:butt;stroke-linejoin:miter;stroke:rgb(26.666667%,26.666667%,26.666667%);stroke-opacity:1;stroke-miterlimit:10;\" d=\"M 154.246094 94.296875 L 25.683594 23.523438 \"/>\n",
       "<path style=\"fill:none;stroke-width:1;stroke-linecap:butt;stroke-linejoin:miter;stroke:rgb(26.666667%,26.666667%,26.666667%);stroke-opacity:1;stroke-miterlimit:10;\" d=\"M 154.246094 94.296875 L 277.9375 20 \"/>\n",
       "<path style=\"fill:none;stroke-width:1;stroke-linecap:butt;stroke-linejoin:miter;stroke:rgb(26.666667%,26.666667%,26.666667%);stroke-opacity:1;stroke-miterlimit:10;\" d=\"M 152.859375 208.257812 L 280 280 \"/>\n",
       "<path style=\"fill:none;stroke-width:1;stroke-linecap:butt;stroke-linejoin:miter;stroke:rgb(26.666667%,26.666667%,26.666667%);stroke-opacity:1;stroke-miterlimit:10;\" d=\"M 152.859375 208.257812 L 20 276.605469 \"/>\n",
       "<path style=\"fill-rule:nonzero;fill:rgb(100%,0%,0%);fill-opacity:1;stroke-width:1;stroke-linecap:butt;stroke-linejoin:miter;stroke:rgb(0%,0%,0%);stroke-opacity:1;stroke-miterlimit:10;\" d=\"M 164.246094 94.296875 C 164.246094 99.816406 159.765625 104.296875 154.246094 104.296875 C 148.722656 104.296875 144.246094 99.816406 144.246094 94.296875 C 144.246094 88.773438 148.722656 84.296875 154.246094 84.296875 C 159.765625 84.296875 164.246094 88.773438 164.246094 94.296875 \"/>\n",
       "<path style=\"fill-rule:nonzero;fill:rgb(100%,0%,0%);fill-opacity:1;stroke-width:1;stroke-linecap:butt;stroke-linejoin:miter;stroke:rgb(0%,0%,0%);stroke-opacity:1;stroke-miterlimit:10;\" d=\"M 162.859375 208.257812 C 162.859375 213.777344 158.382812 218.257812 152.859375 218.257812 C 147.335938 218.257812 142.859375 213.777344 142.859375 208.257812 C 142.859375 202.734375 147.335938 198.257812 152.859375 198.257812 C 158.382812 198.257812 162.859375 202.734375 162.859375 208.257812 \"/>\n",
       "<path style=\"fill-rule:nonzero;fill:rgb(100%,0%,0%);fill-opacity:1;stroke-width:1;stroke-linecap:butt;stroke-linejoin:miter;stroke:rgb(0%,0%,0%);stroke-opacity:1;stroke-miterlimit:10;\" d=\"M 35.683594 23.523438 C 35.683594 29.046875 31.207031 33.523438 25.683594 33.523438 C 20.160156 33.523438 15.683594 29.046875 15.683594 23.523438 C 15.683594 18 20.160156 13.523438 25.683594 13.523438 C 31.207031 13.523438 35.683594 18 35.683594 23.523438 \"/>\n",
       "<path style=\"fill-rule:nonzero;fill:rgb(100%,0%,0%);fill-opacity:1;stroke-width:1;stroke-linecap:butt;stroke-linejoin:miter;stroke:rgb(0%,0%,0%);stroke-opacity:1;stroke-miterlimit:10;\" d=\"M 287.9375 20 C 287.9375 25.523438 283.460938 30 277.9375 30 C 272.414062 30 267.9375 25.523438 267.9375 20 C 267.9375 14.476562 272.414062 10 277.9375 10 C 283.460938 10 287.9375 14.476562 287.9375 20 \"/>\n",
       "<path style=\"fill-rule:nonzero;fill:rgb(100%,0%,0%);fill-opacity:1;stroke-width:1;stroke-linecap:butt;stroke-linejoin:miter;stroke:rgb(0%,0%,0%);stroke-opacity:1;stroke-miterlimit:10;\" d=\"M 290 280 C 290 285.523438 285.523438 290 280 290 C 274.476562 290 270 285.523438 270 280 C 270 274.476562 274.476562 270 280 270 C 285.523438 270 290 274.476562 290 280 \"/>\n",
       "<path style=\"fill-rule:nonzero;fill:rgb(100%,0%,0%);fill-opacity:1;stroke-width:1;stroke-linecap:butt;stroke-linejoin:miter;stroke:rgb(0%,0%,0%);stroke-opacity:1;stroke-miterlimit:10;\" d=\"M 30 276.605469 C 30 282.128906 25.523438 286.605469 20 286.605469 C 14.476562 286.605469 10 282.128906 10 276.605469 C 10 271.085938 14.476562 266.605469 20 266.605469 C 25.523438 266.605469 30 271.085938 30 276.605469 \"/>\n",
       "</g>\n",
       "</svg>\n"
      ],
      "text/plain": [
       "<igraph.drawing.Plot at 0xaa392bcc>"
      ]
     },
     "execution_count": 6,
     "metadata": {},
     "output_type": "execute_result"
    }
   ],
   "source": [
    "# creating tree\n",
    "g = ig.Graph.Tree(6,3)\n",
    "ig.plot(g, bbox = (300,300))"
   ]
  },
  {
   "cell_type": "code",
   "execution_count": 7,
   "metadata": {
    "collapsed": false
   },
   "outputs": [
    {
     "data": {
      "image/svg+xml": [
       "<?xml version=\"1.0\" encoding=\"UTF-8\"?>\n",
       "<svg xmlns=\"http://www.w3.org/2000/svg\" xmlns:xlink=\"http://www.w3.org/1999/xlink\" width=\"200pt\" height=\"200pt\" viewBox=\"0 0 200 200\" version=\"1.1\">\n",
       "<g id=\"surface32\">\n",
       "<rect x=\"0\" y=\"0\" width=\"200\" height=\"200\" style=\"fill:rgb(100%,100%,100%);fill-opacity:1;stroke:none;\"/>\n",
       "<path style=\"fill:none;stroke-width:1;stroke-linecap:butt;stroke-linejoin:miter;stroke:rgb(26.666667%,26.666667%,26.666667%);stroke-opacity:1;stroke-miterlimit:10;\" d=\"M 20 161.210938 L 37.355469 20 \"/>\n",
       "<path style=\"fill:none;stroke-width:1;stroke-linecap:butt;stroke-linejoin:miter;stroke:rgb(26.666667%,26.666667%,26.666667%);stroke-opacity:1;stroke-miterlimit:10;\" d=\"M 20 161.210938 L 169.414062 180 \"/>\n",
       "<path style=\"fill:none;stroke-width:1;stroke-linecap:butt;stroke-linejoin:miter;stroke:rgb(26.666667%,26.666667%,26.666667%);stroke-opacity:1;stroke-miterlimit:10;\" d=\"M 20 161.210938 L 180 25 \"/>\n",
       "<path style=\"fill:none;stroke-width:1;stroke-linecap:butt;stroke-linejoin:miter;stroke:rgb(26.666667%,26.666667%,26.666667%);stroke-opacity:1;stroke-miterlimit:10;\" d=\"M 37.355469 20 L 169.414062 180 \"/>\n",
       "<path style=\"fill:none;stroke-width:1;stroke-linecap:butt;stroke-linejoin:miter;stroke:rgb(26.666667%,26.666667%,26.666667%);stroke-opacity:1;stroke-miterlimit:10;\" d=\"M 37.355469 20 L 180 25 \"/>\n",
       "<path style=\"fill:none;stroke-width:1;stroke-linecap:butt;stroke-linejoin:miter;stroke:rgb(26.666667%,26.666667%,26.666667%);stroke-opacity:1;stroke-miterlimit:10;\" d=\"M 169.414062 180 L 180 25 \"/>\n",
       "<path style=\"fill-rule:nonzero;fill:rgb(100%,0%,0%);fill-opacity:1;stroke-width:1;stroke-linecap:butt;stroke-linejoin:miter;stroke:rgb(0%,0%,0%);stroke-opacity:1;stroke-miterlimit:10;\" d=\"M 30 161.210938 C 30 166.734375 25.523438 171.210938 20 171.210938 C 14.476562 171.210938 10 166.734375 10 161.210938 C 10 155.691406 14.476562 151.210938 20 151.210938 C 25.523438 151.210938 30 155.691406 30 161.210938 \"/>\n",
       "<path style=\"fill-rule:nonzero;fill:rgb(100%,0%,0%);fill-opacity:1;stroke-width:1;stroke-linecap:butt;stroke-linejoin:miter;stroke:rgb(0%,0%,0%);stroke-opacity:1;stroke-miterlimit:10;\" d=\"M 47.355469 20 C 47.355469 25.523438 42.878906 30 37.355469 30 C 31.832031 30 27.355469 25.523438 27.355469 20 C 27.355469 14.476562 31.832031 10 37.355469 10 C 42.878906 10 47.355469 14.476562 47.355469 20 \"/>\n",
       "<path style=\"fill-rule:nonzero;fill:rgb(100%,0%,0%);fill-opacity:1;stroke-width:1;stroke-linecap:butt;stroke-linejoin:miter;stroke:rgb(0%,0%,0%);stroke-opacity:1;stroke-miterlimit:10;\" d=\"M 179.414062 180 C 179.414062 185.523438 174.9375 190 169.414062 190 C 163.890625 190 159.414062 185.523438 159.414062 180 C 159.414062 174.476562 163.890625 170 169.414062 170 C 174.9375 170 179.414062 174.476562 179.414062 180 \"/>\n",
       "<path style=\"fill-rule:nonzero;fill:rgb(100%,0%,0%);fill-opacity:1;stroke-width:1;stroke-linecap:butt;stroke-linejoin:miter;stroke:rgb(0%,0%,0%);stroke-opacity:1;stroke-miterlimit:10;\" d=\"M 190 25 C 190 30.523438 185.523438 35 180 35 C 174.476562 35 170 30.523438 170 25 C 170 19.476562 174.476562 15 180 15 C 185.523438 15 190 19.476562 190 25 \"/>\n",
       "</g>\n",
       "</svg>\n"
      ],
      "text/plain": [
       "<igraph.drawing.Plot at 0xaa392e8c>"
      ]
     },
     "execution_count": 7,
     "metadata": {},
     "output_type": "execute_result"
    }
   ],
   "source": [
    "# creating full graph\n",
    "g = ig.Graph.Full(4)\n",
    "ig.plot(g, bbox = (200,200))"
   ]
  },
  {
   "cell_type": "code",
   "execution_count": 8,
   "metadata": {
    "collapsed": false
   },
   "outputs": [
    {
     "name": "stdout",
     "output_type": "stream",
     "text": [
      "IGRAPH U--- 7 10 --\n",
      "+ edges:\n",
      "0 -- 1 2 3     2 -- 0 1 4 5   4 -- 1 2 6     6 -- 4 5\n",
      "1 -- 0 2 4     3 -- 0 5       5 -- 2 3 6\n"
     ]
    }
   ],
   "source": [
    "g = ig.Graph( [(0,1), (0,2), (0,3),(1,2),(1,4),(2,5),(2,4),(3,5),(4,6),(5,6)])\n",
    "print g"
   ]
  },
  {
   "cell_type": "code",
   "execution_count": 9,
   "metadata": {
    "collapsed": false
   },
   "outputs": [
    {
     "name": "stdout",
     "output_type": "stream",
     "text": [
      "IGRAPH UN-- 7 10 --\n",
      "+ attr: label (v), name (v)\n",
      "+ edges (vertex names):\n",
      "MA -- HD, SP, KA     KA -- MA, F           M -- S, F\n",
      "HD -- MA, SP, S       S -- HD, SP, M\n",
      "SP -- MA, HD, S, F    F -- SP, KA, M\n"
     ]
    }
   ],
   "source": [
    "# name vertices\n",
    "g.vs[\"name\"] = [\"MA\", \"HD\", \"SP\", \"KA\", \"S\", \"F\", \"M\"]\n",
    "# name the labels of the vertices\n",
    "g.vs[\"label\"] = g.vs[\"name\"]\n",
    "print g"
   ]
  },
  {
   "cell_type": "code",
   "execution_count": 10,
   "metadata": {
    "collapsed": false
   },
   "outputs": [],
   "source": [
    "# plot graph\n",
    "ig.plot(g,layout = g.layout(\"sugiyama\"), inline = False)"
   ]
  },
  {
   "cell_type": "code",
   "execution_count": null,
   "metadata": {
    "collapsed": false
   },
   "outputs": [],
   "source": [
    "ig.summary(g)"
   ]
  },
  {
   "cell_type": "code",
   "execution_count": 11,
   "metadata": {
    "collapsed": false
   },
   "outputs": [],
   "source": [
    "# set edge weight true\n",
    "g.es[\"weight\"] = 1.0\n",
    "# add weights to graph\n",
    "g.es[\"weight\"] = [5, 6, 6, 4, 7, 5, 4, 5, 7]\n",
    "ig.plot(g,layout = g.layout(\"sugiyama\"), edge_width = g.es[\"weight\"], inline = False)"
   ]
  },
  {
   "cell_type": "code",
   "execution_count": 12,
   "metadata": {
    "collapsed": false
   },
   "outputs": [
    {
     "name": "stdout",
     "output_type": "stream",
     "text": [
      "IGRAPH UNW- 7 10 -- \n",
      "+ attr: label (v), name (v), weight (e)\n"
     ]
    }
   ],
   "source": [
    "ig.summary(g)"
   ]
  },
  {
   "cell_type": "markdown",
   "metadata": {},
   "source": [
    "# Example of hub and auth. score on a citation network"
   ]
  },
  {
   "cell_type": "code",
   "execution_count": 13,
   "metadata": {
    "collapsed": false
   },
   "outputs": [
    {
     "name": "stdout",
     "output_type": "stream",
     "text": [
      "IGRAPH D--- 1490 19090 -- \n",
      "+ attr: id (v), label (v), source (v), value (v)\n"
     ]
    }
   ],
   "source": [
    "##\n",
    "# L. A. Adamic and N. Glance, \n",
    "# \"The political blogosphere and the 2004 US Election\", \n",
    "# in Proceedings of the WWW-2005 Workshop on the Weblogging Ecosystem (2005)\n",
    "##\n",
    "\n",
    "# importing the Data Set\n",
    "g = ig.Graph.Read_GML(\"polblogs.gml\")\n",
    "ig.summary(g)"
   ]
  },
  {
   "cell_type": "code",
   "execution_count": 14,
   "metadata": {
    "collapsed": false
   },
   "outputs": [
    {
     "data": {
      "text/html": [
       "<div>\n",
       "<table border=\"1\" class=\"dataframe\">\n",
       "  <thead>\n",
       "    <tr style=\"text-align: right;\">\n",
       "      <th></th>\n",
       "      <th>hub score top</th>\n",
       "    </tr>\n",
       "  </thead>\n",
       "  <tbody>\n",
       "    <tr>\n",
       "      <th>politicalstrategy.org</th>\n",
       "      <td>1.000000</td>\n",
       "    </tr>\n",
       "    <tr>\n",
       "      <th>madkane.com/notable.html</th>\n",
       "      <td>0.906115</td>\n",
       "    </tr>\n",
       "    <tr>\n",
       "      <th>liberaloasis.com</th>\n",
       "      <td>0.893959</td>\n",
       "    </tr>\n",
       "    <tr>\n",
       "      <th>stagefour.typepad.com/commonprejudice</th>\n",
       "      <td>0.872931</td>\n",
       "    </tr>\n",
       "    <tr>\n",
       "      <th>bodyandsoul.typepad.com</th>\n",
       "      <td>0.864138</td>\n",
       "    </tr>\n",
       "    <tr>\n",
       "      <th>corrente.blogspot.com</th>\n",
       "      <td>0.843065</td>\n",
       "    </tr>\n",
       "    <tr>\n",
       "      <th>atrios.blogspot.com/</th>\n",
       "      <td>0.825615</td>\n",
       "    </tr>\n",
       "    <tr>\n",
       "      <th>tbogg.blogspot.com</th>\n",
       "      <td>0.806487</td>\n",
       "    </tr>\n",
       "    <tr>\n",
       "      <th>newleftblogs.blogspot.com</th>\n",
       "      <td>0.805398</td>\n",
       "    </tr>\n",
       "    <tr>\n",
       "      <th>atrios.blogspot.com</th>\n",
       "      <td>0.798752</td>\n",
       "    </tr>\n",
       "  </tbody>\n",
       "</table>\n",
       "</div>"
      ],
      "text/plain": [
       "                                       hub score top\n",
       "politicalstrategy.org                       1.000000\n",
       "madkane.com/notable.html                    0.906115\n",
       "liberaloasis.com                            0.893959\n",
       "stagefour.typepad.com/commonprejudice       0.872931\n",
       "bodyandsoul.typepad.com                     0.864138\n",
       "corrente.blogspot.com                       0.843065\n",
       "atrios.blogspot.com/                        0.825615\n",
       "tbogg.blogspot.com                          0.806487\n",
       "newleftblogs.blogspot.com                   0.805398\n",
       "atrios.blogspot.com                         0.798752"
      ]
     },
     "execution_count": 14,
     "metadata": {},
     "output_type": "execute_result"
    }
   ],
   "source": [
    "# calculating the hub score and selecting the top n pages\n",
    "n = 10\n",
    "hubscore = np.asarray(g.hub_score())\n",
    "hubtop = np.argsort(hubscore)[::-1]\n",
    "d = {\"hub score top\":hubscore[hubtop[:n]]}\n",
    "labels = np.asarray(g.vs[\"label\"])\n",
    "pd.DataFrame(d, index=labels[hubtop[:n]])"
   ]
  },
  {
   "cell_type": "code",
   "execution_count": 15,
   "metadata": {
    "collapsed": false
   },
   "outputs": [
    {
     "data": {
      "text/html": [
       "<div>\n",
       "<table border=\"1\" class=\"dataframe\">\n",
       "  <thead>\n",
       "    <tr style=\"text-align: right;\">\n",
       "      <th></th>\n",
       "      <th>hub score top</th>\n",
       "    </tr>\n",
       "  </thead>\n",
       "  <tbody>\n",
       "    <tr>\n",
       "      <th>politicalstrategy.org</th>\n",
       "      <td>(1+0j)</td>\n",
       "    </tr>\n",
       "    <tr>\n",
       "      <th>madkane.com/notable.html</th>\n",
       "      <td>(0.906114550041+0j)</td>\n",
       "    </tr>\n",
       "    <tr>\n",
       "      <th>liberaloasis.com</th>\n",
       "      <td>(0.893959275526+0j)</td>\n",
       "    </tr>\n",
       "    <tr>\n",
       "      <th>stagefour.typepad.com/commonprejudice</th>\n",
       "      <td>(0.872931025315+0j)</td>\n",
       "    </tr>\n",
       "    <tr>\n",
       "      <th>bodyandsoul.typepad.com</th>\n",
       "      <td>(0.864137673427+0j)</td>\n",
       "    </tr>\n",
       "    <tr>\n",
       "      <th>corrente.blogspot.com</th>\n",
       "      <td>(0.843064576374+0j)</td>\n",
       "    </tr>\n",
       "    <tr>\n",
       "      <th>atrios.blogspot.com/</th>\n",
       "      <td>(0.825614592742+0j)</td>\n",
       "    </tr>\n",
       "    <tr>\n",
       "      <th>tbogg.blogspot.com</th>\n",
       "      <td>(0.806486889157+0j)</td>\n",
       "    </tr>\n",
       "    <tr>\n",
       "      <th>newleftblogs.blogspot.com</th>\n",
       "      <td>(0.805397680157+0j)</td>\n",
       "    </tr>\n",
       "    <tr>\n",
       "      <th>atrios.blogspot.com</th>\n",
       "      <td>(0.7987524263+0j)</td>\n",
       "    </tr>\n",
       "  </tbody>\n",
       "</table>\n",
       "</div>"
      ],
      "text/plain": [
       "                                             hub score top\n",
       "politicalstrategy.org                               (1+0j)\n",
       "madkane.com/notable.html               (0.906114550041+0j)\n",
       "liberaloasis.com                       (0.893959275526+0j)\n",
       "stagefour.typepad.com/commonprejudice  (0.872931025315+0j)\n",
       "bodyandsoul.typepad.com                (0.864137673427+0j)\n",
       "corrente.blogspot.com                  (0.843064576374+0j)\n",
       "atrios.blogspot.com/                   (0.825614592742+0j)\n",
       "tbogg.blogspot.com                     (0.806486889157+0j)\n",
       "newleftblogs.blogspot.com              (0.805397680157+0j)\n",
       "atrios.blogspot.com                      (0.7987524263+0j)"
      ]
     },
     "execution_count": 15,
     "metadata": {},
     "output_type": "execute_result"
    }
   ],
   "source": [
    "# calculating the hub score step by step\n",
    "A = np.matrix(g.get_adjacency().data)\n",
    "AAt =  A * A.transpose()\n",
    "w, v = np.linalg.eig(AAt)\n",
    "maxeigen =  np.argmax(w)\n",
    "maxv =  max(v[:,maxeigen])\n",
    "hubscore = np.multiply((1/maxv), v[:,maxeigen])\n",
    "hubscore = hubscore.A1\n",
    "\n",
    "hubtop = np.argsort(hubscore)[::-1]\n",
    "d = {\"hub score top\": hubscore[hubtop[:n]]}\n",
    "labels = np.asarray(g.vs[\"label\"])\n",
    "pd.DataFrame(d, index=labels[hubtop[:n]])"
   ]
  },
  {
   "cell_type": "code",
   "execution_count": 16,
   "metadata": {
    "collapsed": false
   },
   "outputs": [
    {
     "data": {
      "text/html": [
       "<div>\n",
       "<table border=\"1\" class=\"dataframe\">\n",
       "  <thead>\n",
       "    <tr style=\"text-align: right;\">\n",
       "      <th></th>\n",
       "      <th>auth. score top</th>\n",
       "    </tr>\n",
       "  </thead>\n",
       "  <tbody>\n",
       "    <tr>\n",
       "      <th>dailykos.com</th>\n",
       "      <td>1.000000</td>\n",
       "    </tr>\n",
       "    <tr>\n",
       "      <th>talkingpointsmemo.com</th>\n",
       "      <td>0.961743</td>\n",
       "    </tr>\n",
       "    <tr>\n",
       "      <th>atrios.blogspot.com</th>\n",
       "      <td>0.936102</td>\n",
       "    </tr>\n",
       "    <tr>\n",
       "      <th>washingtonmonthly.com</th>\n",
       "      <td>0.787870</td>\n",
       "    </tr>\n",
       "    <tr>\n",
       "      <th>talkleft.com</th>\n",
       "      <td>0.647401</td>\n",
       "    </tr>\n",
       "    <tr>\n",
       "      <th>instapundit.com</th>\n",
       "      <td>0.640788</td>\n",
       "    </tr>\n",
       "    <tr>\n",
       "      <th>juancole.com</th>\n",
       "      <td>0.627468</td>\n",
       "    </tr>\n",
       "    <tr>\n",
       "      <th>yglesias.typepad.com/matthew</th>\n",
       "      <td>0.596396</td>\n",
       "    </tr>\n",
       "    <tr>\n",
       "      <th>pandagon.net</th>\n",
       "      <td>0.587727</td>\n",
       "    </tr>\n",
       "    <tr>\n",
       "      <th>digbysblog.blogspot.com</th>\n",
       "      <td>0.579582</td>\n",
       "    </tr>\n",
       "  </tbody>\n",
       "</table>\n",
       "</div>"
      ],
      "text/plain": [
       "                              auth. score top\n",
       "dailykos.com                         1.000000\n",
       "talkingpointsmemo.com                0.961743\n",
       "atrios.blogspot.com                  0.936102\n",
       "washingtonmonthly.com                0.787870\n",
       "talkleft.com                         0.647401\n",
       "instapundit.com                      0.640788\n",
       "juancole.com                         0.627468\n",
       "yglesias.typepad.com/matthew         0.596396\n",
       "pandagon.net                         0.587727\n",
       "digbysblog.blogspot.com              0.579582"
      ]
     },
     "execution_count": 16,
     "metadata": {},
     "output_type": "execute_result"
    }
   ],
   "source": [
    "# calculating the auth. score and slecting the top n pages\n",
    "authscore = np.asarray(g.authority_score())\n",
    "authtop = np.argsort(authscore)[::-1]\n",
    "d = {\"auth. score top\": authscore[authtop[:n]]}\n",
    "pd.DataFrame(d, index=labels[authtop[:n]])"
   ]
  },
  {
   "cell_type": "code",
   "execution_count": 17,
   "metadata": {
    "collapsed": false
   },
   "outputs": [
    {
     "data": {
      "text/html": [
       "<div>\n",
       "<table border=\"1\" class=\"dataframe\">\n",
       "  <thead>\n",
       "    <tr style=\"text-align: right;\">\n",
       "      <th></th>\n",
       "      <th>auth. top</th>\n",
       "      <th>hub top</th>\n",
       "    </tr>\n",
       "  </thead>\n",
       "  <tbody>\n",
       "    <tr>\n",
       "      <th>0</th>\n",
       "      <td>dailykos.com</td>\n",
       "      <td>politicalstrategy.org</td>\n",
       "    </tr>\n",
       "    <tr>\n",
       "      <th>1</th>\n",
       "      <td>talkingpointsmemo.com</td>\n",
       "      <td>madkane.com/notable.html</td>\n",
       "    </tr>\n",
       "    <tr>\n",
       "      <th>2</th>\n",
       "      <td>atrios.blogspot.com</td>\n",
       "      <td>liberaloasis.com</td>\n",
       "    </tr>\n",
       "    <tr>\n",
       "      <th>3</th>\n",
       "      <td>washingtonmonthly.com</td>\n",
       "      <td>stagefour.typepad.com/commonprejudice</td>\n",
       "    </tr>\n",
       "    <tr>\n",
       "      <th>4</th>\n",
       "      <td>talkleft.com</td>\n",
       "      <td>bodyandsoul.typepad.com</td>\n",
       "    </tr>\n",
       "    <tr>\n",
       "      <th>5</th>\n",
       "      <td>instapundit.com</td>\n",
       "      <td>corrente.blogspot.com</td>\n",
       "    </tr>\n",
       "    <tr>\n",
       "      <th>6</th>\n",
       "      <td>juancole.com</td>\n",
       "      <td>atrios.blogspot.com/</td>\n",
       "    </tr>\n",
       "    <tr>\n",
       "      <th>7</th>\n",
       "      <td>yglesias.typepad.com/matthew</td>\n",
       "      <td>tbogg.blogspot.com</td>\n",
       "    </tr>\n",
       "    <tr>\n",
       "      <th>8</th>\n",
       "      <td>pandagon.net</td>\n",
       "      <td>newleftblogs.blogspot.com</td>\n",
       "    </tr>\n",
       "    <tr>\n",
       "      <th>9</th>\n",
       "      <td>digbysblog.blogspot.com</td>\n",
       "      <td>atrios.blogspot.com</td>\n",
       "    </tr>\n",
       "  </tbody>\n",
       "</table>\n",
       "</div>"
      ],
      "text/plain": [
       "                      auth. top                                hub top\n",
       "0                  dailykos.com                  politicalstrategy.org\n",
       "1         talkingpointsmemo.com               madkane.com/notable.html\n",
       "2           atrios.blogspot.com                       liberaloasis.com\n",
       "3         washingtonmonthly.com  stagefour.typepad.com/commonprejudice\n",
       "4                  talkleft.com                bodyandsoul.typepad.com\n",
       "5               instapundit.com                  corrente.blogspot.com\n",
       "6                  juancole.com                  atrios.blogspot.com/ \n",
       "7  yglesias.typepad.com/matthew                     tbogg.blogspot.com\n",
       "8                  pandagon.net              newleftblogs.blogspot.com\n",
       "9       digbysblog.blogspot.com                    atrios.blogspot.com"
      ]
     },
     "execution_count": 17,
     "metadata": {},
     "output_type": "execute_result"
    }
   ],
   "source": [
    "# top 10 auth. and hub scores\n",
    "d = {\"auth. top\": labels[authtop[:n]], \"hub top\": labels[hubtop[:n]]}\n",
    "pd.DataFrame(d)"
   ]
  },
  {
   "cell_type": "code",
   "execution_count": 18,
   "metadata": {
    "collapsed": false
   },
   "outputs": [
    {
     "data": {
      "image/png": "[encoded data removed]",
      "text/plain": [
       "<matplotlib.figure.Figure at 0xaa1e416c>"
      ]
     },
     "metadata": {},
     "output_type": "display_data"
    }
   ],
   "source": [
    "# calculating how many blogs are in the top k hub and auth.\n",
    "k = [10, 20, 40, 80, 160, 320, 640, 1280]\n",
    "same = np.zeros(np.size(k))\n",
    "counter = 0\n",
    "for n in k:\n",
    "    same[counter] = 0\n",
    "    for i in range(0,n):\n",
    "        for j in range(0,n):\n",
    "            if labels[authtop[i]] == labels[hubtop[j]]:\n",
    "                same[counter] += 1\n",
    "    counter += 1\n",
    "plt.plot(k,same/k * 100,'blue')\n",
    "plt.plot(k,same/k * 100,'ro')\n",
    "plt.show()"
   ]
  },
  {
   "cell_type": "code",
   "execution_count": null,
   "metadata": {
    "collapsed": true
   },
   "outputs": [],
   "source": [
    "ig.plot(g, inline=Fa)"
   ]
  }
 ],
 "metadata": {
  "anaconda-cloud": {},
  "kernelspec": {
   "display_name": "Python [conda root]",
   "language": "python",
   "name": "conda-root-py"
  },
  "language_info": {
   "codemirror_mode": {
    "name": "ipython",
    "version": 2
   },
   "file_extension": ".py",
   "mimetype": "text/x-python",
   "name": "python",
   "nbconvert_exporter": "python",
   "pygments_lexer": "ipython2",
   "version": "2.7.12"
  }
 },
 "nbformat": 4,
 "nbformat_minor": 1
}
