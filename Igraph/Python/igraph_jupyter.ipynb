{
 "cells": [
  {
   "cell_type": "markdown",
   "metadata": {},
   "source": [
    "# Igraph introduction"
   ]
  },
  {
   "cell_type": "code",
   "execution_count": null,
   "metadata": {
    "collapsed": false,
    "slideshow": {
     "slide_type": "slide"
    }
   },
   "outputs": [],
   "source": [
    "import igraph as ig\n",
    "import numpy as np\n",
    "\n",
    "g = ig.Graph()\n",
    "\n",
    "g.add_vertices(3)\n",
    "ig.plot(g, bbox = (100, 100))"
   ]
  },
  {
   "cell_type": "code",
   "execution_count": null,
   "metadata": {
    "collapsed": false,
    "slideshow": {
     "slide_type": "slide"
    }
   },
   "outputs": [],
   "source": [
    "g.add_edges([(0,1), (1,2)])\n",
    "ig.plot(g, bbox = (100, 100))"
   ]
  },
  {
   "cell_type": "code",
   "execution_count": null,
   "metadata": {
    "collapsed": false,
    "slideshow": {
     "slide_type": "slide"
    }
   },
   "outputs": [],
   "source": [
    "g.delete_vertices(2)\n",
    "ig.plot(g, bbox = (100, 100))"
   ]
  },
  {
   "cell_type": "code",
   "execution_count": null,
   "metadata": {
    "collapsed": false,
    "slideshow": {
     "slide_type": "slide"
    }
   },
   "outputs": [],
   "source": [
    "g = ig.Graph(directed = True)\n",
    "g.add_vertices(3)\n",
    "g.add_edges([(0, 1), (1, 2)])\n",
    "ig.plot(g, bbox = (100, 100))"
   ]
  },
  {
   "cell_type": "code",
   "execution_count": null,
   "metadata": {
    "collapsed": false
   },
   "outputs": [],
   "source": [
    "g = ig.Graph.Tree(10,3)\n",
    "ig.plot(g, bbox = (300,300))"
   ]
  },
  {
   "cell_type": "code",
   "execution_count": null,
   "metadata": {
    "collapsed": false
   },
   "outputs": [],
   "source": [
    "g = ig.Graph.Full(4)\n",
    "ig.plot(g, bbox = (300,300))"
   ]
  },
  {
   "cell_type": "code",
   "execution_count": null,
   "metadata": {
    "collapsed": false
   },
   "outputs": [],
   "source": [
    "g = ig.Graph( [(0,1), (0,2), (0,3),(1,2),(1,4),(2,5),(2,4),(3,5),(4,6),(5,6)])\n",
    "g.vs[\"name\"] = [\"MA\", \"HD\", \"SP\", \"KA\", \"S\", \"F\", \"M\"]\n",
    "g.vs[\"label\"] = g.vs[\"name\"]\n",
    "ig.plot(g,layout = g.layout(\"sugiyama\"), bbox = (600,300))"
   ]
  },
  {
   "cell_type": "code",
   "execution_count": null,
   "metadata": {
    "collapsed": false
   },
   "outputs": [],
   "source": [
    "g.is_weighted()"
   ]
  },
  {
   "cell_type": "code",
   "execution_count": null,
   "metadata": {
    "collapsed": false
   },
   "outputs": [],
   "source": [
    "g.es[\"weight\"] = 1.0\n",
    "g.es[\"weight\"] = [5, 6, 6, 4, 7, 5, 4, 5, 7]\n",
    "ig.plot(g,layout = g.layout(\"sugiyama\"), bbox = (600,300), edge_width = g.es[\"weight\"])"
   ]
  },
  {
   "cell_type": "markdown",
   "metadata": {},
   "source": [
    "# Example on a social network"
   ]
  },
  {
   "cell_type": "code",
   "execution_count": null,
   "metadata": {
    "collapsed": false,
    "scrolled": true,
    "slideshow": {
     "slide_type": "slide"
    }
   },
   "outputs": [],
   "source": [
    "g = ig.Graph([(0,1), (0,2), (2,3), (3,4), (4,2), (2,5), (5,0), (6,3), (5,6)])\n",
    "names = [\"Alice\", \"Bob\", \"Claire\", \"Dennis\", \"Esther\", \"Frank\", \"George\"]\n",
    "g.vs[\"name\"] = names\n",
    "g.vs[\"label\"] = g.vs[\"name\"]\n",
    "ig.plot(g, layout = g.layout(\"sugiyama\"), bbox = (600, 300),inline = False)"
   ]
  },
  {
   "cell_type": "code",
   "execution_count": null,
   "metadata": {
    "collapsed": false
   },
   "outputs": [],
   "source": [
    "print g"
   ]
  },
  {
   "cell_type": "code",
   "execution_count": null,
   "metadata": {
    "collapsed": false
   },
   "outputs": [],
   "source": [
    "g.degree()"
   ]
  },
  {
   "cell_type": "code",
   "execution_count": null,
   "metadata": {
    "collapsed": false,
    "slideshow": {
     "slide_type": "slide"
    }
   },
   "outputs": [],
   "source": [
    "import pandas as pd\n",
    "\n",
    "hubscore = g.hub_score()\n",
    "beetweeness = g.betweenness()\n",
    "d = {\"hub score\": hubscore, \"beetweeness\": beetweeness}\n",
    "pd.DataFrame(d, index = names)"
   ]
  },
  {
   "cell_type": "code",
   "execution_count": null,
   "metadata": {
    "collapsed": false,
    "slideshow": {
     "slide_type": "slide"
    }
   },
   "outputs": [],
   "source": [
    "A = np.matrix(g.get_adjacency().data)\n",
    "AtA = A.transpose() * A\n",
    "w, v = np.linalg.eig(AtA)\n",
    "maxeigen =  np.argmax(w)\n",
    "maxv =  max(v[:,maxeigen])\n",
    "hubs = np.multiply((1/maxv), v[:,maxeigen])\n",
    "hubs = hubs.A1\n",
    "\n",
    "d = {\"hub score\": hubs}\n",
    "pd.DataFrame(d, index = names)"
   ]
  },
  {
   "cell_type": "markdown",
   "metadata": {},
   "source": [
    "# Using hub and auth. score on a citation network"
   ]
  },
  {
   "cell_type": "code",
   "execution_count": null,
   "metadata": {
    "collapsed": false
   },
   "outputs": [],
   "source": [
    "g = ig.Graph.Read_GML(\"polblogs.gml\")\n",
    "ig.plot(g, inline = False)"
   ]
  },
  {
   "cell_type": "code",
   "execution_count": null,
   "metadata": {
    "collapsed": false
   },
   "outputs": [],
   "source": [
    "n = 10\n",
    "hubscore = np.asarray(g.hub_score())\n",
    "hubtop = np.argsort(hubscore)[::-1]\n",
    "d = {\"hub score top\":hubscore[hubtop[:n]]}\n",
    "labels = np.asarray(g.vs[\"label\"])\n",
    "pd.DataFrame(d, index=labels[hubtop[:n]])"
   ]
  },
  {
   "cell_type": "code",
   "execution_count": null,
   "metadata": {
    "collapsed": false
   },
   "outputs": [],
   "source": [
    "authscore = np.asarray(g.authority_score())\n",
    "authtop = np.argsort(authscore)[::-1]\n",
    "d = {\"auth. score top\": authscore[authtop[:n]]}\n",
    "pd.DataFrame(d, index=labels[authtop[:n]])"
   ]
  },
  {
   "cell_type": "code",
   "execution_count": null,
   "metadata": {
    "collapsed": false
   },
   "outputs": [],
   "source": [
    "d = {\"auth. top\": labels[authtop[:n]], \"hub top\": labels[hubtop[:n]]}\n",
    "pd.DataFrame(d)"
   ]
  },
  {
   "cell_type": "code",
   "execution_count": null,
   "metadata": {
    "collapsed": false
   },
   "outputs": [],
   "source": [
    "import matplotlib.pyplot as plt\n",
    "k = [10, 20, 40, 80, 160, 320, 640, 1280]\n",
    "same = np.zeros(np.size(k))\n",
    "counter = 0\n",
    "for n in k:\n",
    "    same[counter] = 0\n",
    "    for i in range(0,n):\n",
    "        for j in range(0,n):\n",
    "            if labels[authtop[i]] == labels[hubtop[j]]:\n",
    "                same[counter] += 1\n",
    "    counter += 1\n",
    "#d = {\"perc. of blogs which are auth and hub\": same/k * 100}\n",
    "#pd.DataFrame(d)\n",
    "plt.plot(k,same/k * 100,'blue')\n",
    "plt.plot(k,same/k * 100,'ro')\n",
    "plt.show()"
   ]
  }
 ],
 "metadata": {
  "anaconda-cloud": {},
  "kernelspec": {
   "display_name": "Python [conda root]",
   "language": "python",
   "name": "conda-root-py"
  },
  "language_info": {
   "codemirror_mode": {
    "name": "ipython",
    "version": 2
   },
   "file_extension": ".py",
   "mimetype": "text/x-python",
   "name": "python",
   "nbconvert_exporter": "python",
   "pygments_lexer": "ipython2",
   "version": "2.7.12"
  }
 },
 "nbformat": 4,
 "nbformat_minor": 1
}
